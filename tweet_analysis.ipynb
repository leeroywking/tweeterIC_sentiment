{
 "cells": [
  {
   "cell_type": "code",
   "execution_count": 104,
   "metadata": {},
   "outputs": [],
   "source": [
    "import numpy as np\n",
    "import pandas as pd\n",
    "import seaborn as sns\n",
    "from vaderSentiment.vaderSentiment import SentimentIntensityAnalyzer"
   ]
  },
  {
   "cell_type": "code",
   "execution_count": 105,
   "metadata": {},
   "outputs": [],
   "source": [
    "tweets_df = pd.read_csv(\"./resources/tweet_data.csv\")"
   ]
  },
  {
   "cell_type": "code",
   "execution_count": 106,
   "metadata": {},
   "outputs": [
    {
     "data": {
      "text/html": [
       "<div>\n",
       "<style scoped>\n",
       "    .dataframe tbody tr th:only-of-type {\n",
       "        vertical-align: middle;\n",
       "    }\n",
       "\n",
       "    .dataframe tbody tr th {\n",
       "        vertical-align: top;\n",
       "    }\n",
       "\n",
       "    .dataframe thead th {\n",
       "        text-align: right;\n",
       "    }\n",
       "</style>\n",
       "<table border=\"1\" class=\"dataframe\">\n",
       "  <thead>\n",
       "    <tr style=\"text-align: right;\">\n",
       "      <th></th>\n",
       "      <th>source</th>\n",
       "      <th>text</th>\n",
       "      <th>created_at</th>\n",
       "      <th>retweet_count</th>\n",
       "      <th>favorite_count</th>\n",
       "      <th>is_retweet</th>\n",
       "      <th>id_str</th>\n",
       "    </tr>\n",
       "  </thead>\n",
       "  <tbody>\n",
       "    <tr>\n",
       "      <th>0</th>\n",
       "      <td>Twitter for iPhone</td>\n",
       "      <td>THANK YOU @NAPOpolice and their 241000 brave l...</td>\n",
       "      <td>07-16-2020 03:13:11</td>\n",
       "      <td>30356.0</td>\n",
       "      <td>114261</td>\n",
       "      <td>false</td>\n",
       "      <td>1.283601e+18</td>\n",
       "    </tr>\n",
       "  </tbody>\n",
       "</table>\n",
       "</div>"
      ],
      "text/plain": [
       "               source                                               text  \\\n",
       "0  Twitter for iPhone  THANK YOU @NAPOpolice and their 241000 brave l...   \n",
       "\n",
       "            created_at  retweet_count favorite_count is_retweet        id_str  \n",
       "0  07-16-2020 03:13:11        30356.0         114261      false  1.283601e+18  "
      ]
     },
     "execution_count": 106,
     "metadata": {},
     "output_type": "execute_result"
    }
   ],
   "source": [
    "tweets_df.head(1)"
   ]
  },
  {
   "cell_type": "code",
   "execution_count": 107,
   "metadata": {},
   "outputs": [
    {
     "data": {
      "text/plain": [
       "2019-09-09 03:11:53    4\n",
       "2020-05-30 12:41:04    4\n",
       "2019-09-04 21:08:58    4\n",
       "2019-05-20 11:20:53    4\n",
       "2019-06-09 12:26:37    4\n",
       "                      ..\n",
       "2013-10-28 20:46:01    1\n",
       "2020-03-30 11:19:25    1\n",
       "2012-11-27 21:36:38    1\n",
       "2018-04-24 16:43:34    1\n",
       "2013-01-14 16:55:18    1\n",
       "Name: created_at, Length: 43913, dtype: int64"
      ]
     },
     "execution_count": 107,
     "metadata": {},
     "output_type": "execute_result"
    }
   ],
   "source": [
    "# tweets_df[\"created_at\"] =  pd.to_datetime(tweets_df[\"created_at\"], format=\"%m-%d-%Y %H:%M:%S\")\n",
    "tweets_df[\"created_at\"] =  pd.to_datetime(tweets_df[\"created_at\"], infer_datetime_format=True, errors=\"coerce\")\n",
    "\n",
    "tweets_df[\"created_at\"].value_counts()"
   ]
  },
  {
   "cell_type": "code",
   "execution_count": 108,
   "metadata": {},
   "outputs": [
    {
     "data": {
      "text/plain": [
       "0       2020-07-16 03:13:11+00:00\n",
       "1       2020-07-16 00:57:13+00:00\n",
       "2       2020-07-16 00:57:12+00:00\n",
       "3       2020-07-16 00:57:12+00:00\n",
       "4       2020-07-15 16:13:44+00:00\n",
       "                   ...           \n",
       "44344   2009-05-12 14:07:28+00:00\n",
       "44345   2009-05-08 20:40:15+00:00\n",
       "44346   2009-05-08 13:38:08+00:00\n",
       "44347   2009-05-05 01:00:10+00:00\n",
       "44348   2009-05-04 18:54:25+00:00\n",
       "Name: created_at, Length: 44349, dtype: datetime64[ns, UTC]"
      ]
     },
     "execution_count": 108,
     "metadata": {},
     "output_type": "execute_result"
    }
   ],
   "source": [
    "# dates_with_abidjan_time_zone = dates.dt.tz_localize('Africa/Abidjan')\n",
    "tweets_df[\"created_at\"] = tweets_df[\"created_at\"].dt.tz_localize(\"UTC\")\n",
    "tweets_df[\"created_at\"]"
   ]
  },
  {
   "cell_type": "code",
   "execution_count": 109,
   "metadata": {},
   "outputs": [],
   "source": [
    "tweets_df[\"created_at\"] = tweets_df[\"created_at\"].dt.tz_convert('US/Eastern')"
   ]
  },
  {
   "cell_type": "code",
   "execution_count": 110,
   "metadata": {},
   "outputs": [
    {
     "data": {
      "text/plain": [
       "0       2020-07-15 23:13:11-04:00\n",
       "1       2020-07-15 20:57:13-04:00\n",
       "2       2020-07-15 20:57:12-04:00\n",
       "3       2020-07-15 20:57:12-04:00\n",
       "4       2020-07-15 12:13:44-04:00\n",
       "                   ...           \n",
       "44344   2009-05-12 10:07:28-04:00\n",
       "44345   2009-05-08 16:40:15-04:00\n",
       "44346   2009-05-08 09:38:08-04:00\n",
       "44347   2009-05-04 21:00:10-04:00\n",
       "44348   2009-05-04 14:54:25-04:00\n",
       "Name: created_at, Length: 44349, dtype: datetime64[ns, US/Eastern]"
      ]
     },
     "execution_count": 110,
     "metadata": {},
     "output_type": "execute_result"
    }
   ],
   "source": [
    "tweets_df[\"created_at\"]"
   ]
  },
  {
   "cell_type": "code",
   "execution_count": 111,
   "metadata": {},
   "outputs": [],
   "source": [
    "tweets_df[\"tweet_hour\"] = tweets_df[\"created_at\"].dt.hour"
   ]
  },
  {
   "cell_type": "code",
   "execution_count": 112,
   "metadata": {},
   "outputs": [
    {
     "data": {
      "text/plain": [
       "15.0    3078\n",
       "16.0    3067\n",
       "8.0     2943\n",
       "9.0     2831\n",
       "7.0     2688\n",
       "14.0    2661\n",
       "10.0    2606\n",
       "22.0    2306\n",
       "11.0    2256\n",
       "13.0    2066\n",
       "21.0    2053\n",
       "12.0    2033\n",
       "17.0    1956\n",
       "20.0    1931\n",
       "18.0    1790\n",
       "23.0    1685\n",
       "19.0    1648\n",
       "6.0     1591\n",
       "0.0     1146\n",
       "5.0      565\n",
       "1.0      451\n",
       "4.0      386\n",
       "2.0      321\n",
       "3.0      284\n",
       "Name: tweet_hour, dtype: int64"
      ]
     },
     "execution_count": 112,
     "metadata": {},
     "output_type": "execute_result"
    }
   ],
   "source": [
    "tweets_df[\"tweet_hour\"].value_counts()"
   ]
  },
  {
   "cell_type": "code",
   "execution_count": 113,
   "metadata": {},
   "outputs": [],
   "source": [
    "analyser = SentimentIntensityAnalyzer()\n"
   ]
  },
  {
   "cell_type": "code",
   "execution_count": 114,
   "metadata": {},
   "outputs": [],
   "source": [
    "def get_sentiment_scores(sentence):\n",
    "    snt = analyser.polarity_scores(sentence)\n",
    "    return snt"
   ]
  },
  {
   "cell_type": "code",
   "execution_count": 115,
   "metadata": {},
   "outputs": [
    {
     "data": {
      "text/plain": [
       "{'neg': 0.0, 'neu': 0.773, 'pos': 0.227, 'compound': 0.882}"
      ]
     },
     "execution_count": 115,
     "metadata": {},
     "output_type": "execute_result"
    }
   ],
   "source": [
    "get_sentiment_scores(tweets_df[\"text\"][0])"
   ]
  },
  {
   "cell_type": "code",
   "execution_count": 116,
   "metadata": {},
   "outputs": [],
   "source": [
    "sentiments = []\n",
    "for text in tweets_df[\"text\"]:\n",
    "    try:\n",
    "        sentiments.append(get_sentiment_scores(text))\n",
    "    except:\n",
    "        sentiments.append(np.nan)\n",
    "tweets_df[\"sentiments\"] = sentiments"
   ]
  },
  {
   "cell_type": "code",
   "execution_count": 117,
   "metadata": {},
   "outputs": [
    {
     "data": {
      "text/plain": [
       "0        {'neg': 0.0, 'neu': 0.773, 'pos': 0.227, 'comp...\n",
       "1        {'neg': 0.0, 'neu': 0.667, 'pos': 0.333, 'comp...\n",
       "2        {'neg': 0.0, 'neu': 0.733, 'pos': 0.267, 'comp...\n",
       "3        {'neg': 0.0, 'neu': 0.896, 'pos': 0.104, 'comp...\n",
       "4        {'neg': 0.0, 'neu': 1.0, 'pos': 0.0, 'compound...\n",
       "                               ...                        \n",
       "44344    {'neg': 0.0, 'neu': 1.0, 'pos': 0.0, 'compound...\n",
       "44345    {'neg': 0.0, 'neu': 1.0, 'pos': 0.0, 'compound...\n",
       "44346    {'neg': 0.0, 'neu': 0.739, 'pos': 0.261, 'comp...\n",
       "44347    {'neg': 0.0, 'neu': 0.749, 'pos': 0.251, 'comp...\n",
       "44348    {'neg': 0.0, 'neu': 0.827, 'pos': 0.173, 'comp...\n",
       "Name: sentiments, Length: 44349, dtype: object"
      ]
     },
     "execution_count": 117,
     "metadata": {},
     "output_type": "execute_result"
    }
   ],
   "source": [
    "tweets_df[\"sentiments\"]"
   ]
  },
  {
   "cell_type": "code",
   "execution_count": 121,
   "metadata": {},
   "outputs": [
    {
     "data": {
      "text/plain": [
       "[Text(0.5, 0, 'Hour of tweet Eastern Time'),\n",
       " Text(0, 0.5, 'Compound sentiment')]"
      ]
     },
     "execution_count": 121,
     "metadata": {},
     "output_type": "execute_result"
    },
    {
     "data": {
      "image/png": "[encoded data removed]",
      "text/plain": [
       "<Figure size 1440x720 with 1 Axes>"
      ]
     },
     "metadata": {},
     "output_type": "display_data"
    }
   ],
   "source": [
    "compound_sentiment = []\n",
    "for sentiment in tweets_df[\"sentiments\"]:\n",
    "    try:\n",
    "        compound_sentiment.append(sentiment[\"compound\"])\n",
    "    except:\n",
    "        compound_sentiment.append(np.nan)\n",
    "tweets_df[\"compound_sentiment\"] = compound_sentiment\n",
    "\n",
    "# tweets_df[\"compound_sentiment\"]\n",
    "\n",
    "# tweets_df.plot.scatter(x=\"tweet_hour\", y=\"compound_sentiment\")\n",
    "\n",
    "\n",
    "\n",
    "sns.set(style=\"whitegrid\")\n",
    "sns.set(rc={'figure.figsize':(20,10)})\n",
    "ax = sns.boxplot(x=\"tweet_hour\", y=\"compound_sentiment\", data=tweets_df, fliersize= 0)\n",
    "ax.set(ylim=(-0.5, 0.8))\n",
    "ax.set(xlabel='Hour of tweet Eastern Time', ylabel='Compound sentiment')\n",
    "\n"
   ]
  },
  {
   "cell_type": "code",
   "execution_count": null,
   "metadata": {},
   "outputs": [],
   "source": []
  }
 ],
 "metadata": {
  "kernelspec": {
   "display_name": "Python 3",
   "language": "python",
   "name": "python3"
  },
  "language_info": {
   "codemirror_mode": {
    "name": "ipython",
    "version": 3
   },
   "file_extension": ".py",
   "mimetype": "text/x-python",
   "name": "python",
   "nbconvert_exporter": "python",
   "pygments_lexer": "ipython3",
   "version": "3.8.2"
  }
 },
 "nbformat": 4,
 "nbformat_minor": 4
}
