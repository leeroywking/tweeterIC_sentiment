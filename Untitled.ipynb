{
 "cells": [
  {
   "cell_type": "code",
   "execution_count": 29,
   "metadata": {},
   "outputs": [],
   "source": [
    "import numpy as np\n",
    "import pandas as pd"
   ]
  },
  {
   "cell_type": "code",
   "execution_count": 30,
   "metadata": {},
   "outputs": [],
   "source": [
    "tweets_df = pd.read_csv(\"./resources/tweet_data.csv\")"
   ]
  },
  {
   "cell_type": "code",
   "execution_count": 31,
   "metadata": {},
   "outputs": [
    {
     "data": {
      "text/html": [
       "<div>\n",
       "<style scoped>\n",
       "    .dataframe tbody tr th:only-of-type {\n",
       "        vertical-align: middle;\n",
       "    }\n",
       "\n",
       "    .dataframe tbody tr th {\n",
       "        vertical-align: top;\n",
       "    }\n",
       "\n",
       "    .dataframe thead th {\n",
       "        text-align: right;\n",
       "    }\n",
       "</style>\n",
       "<table border=\"1\" class=\"dataframe\">\n",
       "  <thead>\n",
       "    <tr style=\"text-align: right;\">\n",
       "      <th></th>\n",
       "      <th>source</th>\n",
       "      <th>text</th>\n",
       "      <th>created_at</th>\n",
       "      <th>retweet_count</th>\n",
       "      <th>favorite_count</th>\n",
       "      <th>is_retweet</th>\n",
       "      <th>id_str</th>\n",
       "    </tr>\n",
       "  </thead>\n",
       "  <tbody>\n",
       "    <tr>\n",
       "      <th>0</th>\n",
       "      <td>Twitter for iPhone</td>\n",
       "      <td>THANK YOU @NAPOpolice and their 241000 brave l...</td>\n",
       "      <td>07-16-2020 03:13:11</td>\n",
       "      <td>30356.0</td>\n",
       "      <td>114261</td>\n",
       "      <td>false</td>\n",
       "      <td>1.283601e+18</td>\n",
       "    </tr>\n",
       "  </tbody>\n",
       "</table>\n",
       "</div>"
      ],
      "text/plain": [
       "               source                                               text  \\\n",
       "0  Twitter for iPhone  THANK YOU @NAPOpolice and their 241000 brave l...   \n",
       "\n",
       "            created_at  retweet_count favorite_count is_retweet        id_str  \n",
       "0  07-16-2020 03:13:11        30356.0         114261      false  1.283601e+18  "
      ]
     },
     "execution_count": 31,
     "metadata": {},
     "output_type": "execute_result"
    }
   ],
   "source": [
    "tweets_df.head(1)"
   ]
  },
  {
   "cell_type": "code",
   "execution_count": 32,
   "metadata": {},
   "outputs": [
    {
     "data": {
      "text/plain": [
       "2019-09-09 03:11:53    4\n",
       "2020-05-30 12:41:04    4\n",
       "2019-09-04 21:08:58    4\n",
       "2019-05-20 11:20:53    4\n",
       "2019-06-09 12:26:37    4\n",
       "                      ..\n",
       "2013-10-28 20:46:01    1\n",
       "2020-03-30 11:19:25    1\n",
       "2012-11-27 21:36:38    1\n",
       "2018-04-24 16:43:34    1\n",
       "2013-01-14 16:55:18    1\n",
       "Name: created_at, Length: 43913, dtype: int64"
      ]
     },
     "execution_count": 32,
     "metadata": {},
     "output_type": "execute_result"
    }
   ],
   "source": [
    "# tweets_df[\"created_at\"] =  pd.to_datetime(tweets_df[\"created_at\"], format=\"%m-%d-%Y %H:%M:%S\")\n",
    "tweets_df[\"created_at\"] =  pd.to_datetime(tweets_df[\"created_at\"], infer_datetime_format=True, errors=\"coerce\")\n",
    "\n",
    "tweets_df[\"created_at\"].value_counts()"
   ]
  },
  {
   "cell_type": "code",
   "execution_count": 33,
   "metadata": {},
   "outputs": [
    {
     "data": {
      "text/plain": [
       "0       2020-07-16 03:13:11+00:00\n",
       "1       2020-07-16 00:57:13+00:00\n",
       "2       2020-07-16 00:57:12+00:00\n",
       "3       2020-07-16 00:57:12+00:00\n",
       "4       2020-07-15 16:13:44+00:00\n",
       "                   ...           \n",
       "44344   2009-05-12 14:07:28+00:00\n",
       "44345   2009-05-08 20:40:15+00:00\n",
       "44346   2009-05-08 13:38:08+00:00\n",
       "44347   2009-05-05 01:00:10+00:00\n",
       "44348   2009-05-04 18:54:25+00:00\n",
       "Name: created_at, Length: 44349, dtype: datetime64[ns, UTC]"
      ]
     },
     "execution_count": 33,
     "metadata": {},
     "output_type": "execute_result"
    }
   ],
   "source": [
    "# dates_with_abidjan_time_zone = dates.dt.tz_localize('Africa/Abidjan')\n",
    "tweets_df[\"created_at\"] = tweets_df[\"created_at\"].dt.tz_localize(\"UTC\")\n",
    "tweets_df[\"created_at\"]"
   ]
  },
  {
   "cell_type": "code",
   "execution_count": 34,
   "metadata": {},
   "outputs": [],
   "source": [
    "tweets_df[\"created_at\"] = tweets_df[\"created_at\"].dt.tz_convert('US/Eastern')"
   ]
  },
  {
   "cell_type": "code",
   "execution_count": 35,
   "metadata": {},
   "outputs": [
    {
     "data": {
      "text/plain": [
       "0       2020-07-15 23:13:11-04:00\n",
       "1       2020-07-15 20:57:13-04:00\n",
       "2       2020-07-15 20:57:12-04:00\n",
       "3       2020-07-15 20:57:12-04:00\n",
       "4       2020-07-15 12:13:44-04:00\n",
       "                   ...           \n",
       "44344   2009-05-12 10:07:28-04:00\n",
       "44345   2009-05-08 16:40:15-04:00\n",
       "44346   2009-05-08 09:38:08-04:00\n",
       "44347   2009-05-04 21:00:10-04:00\n",
       "44348   2009-05-04 14:54:25-04:00\n",
       "Name: created_at, Length: 44349, dtype: datetime64[ns, US/Eastern]"
      ]
     },
     "execution_count": 35,
     "metadata": {},
     "output_type": "execute_result"
    }
   ],
   "source": [
    "tweets_df[\"created_at\"]"
   ]
  },
  {
   "cell_type": "code",
   "execution_count": 37,
   "metadata": {},
   "outputs": [],
   "source": [
    "tweets_df[\"tweet_hour\"] = tweets_df[\"created_at\"].dt.hour"
   ]
  },
  {
   "cell_type": "code",
   "execution_count": 43,
   "metadata": {},
   "outputs": [
    {
     "data": {
      "text/plain": [
       "15.0    3078\n",
       "16.0    3067\n",
       "8.0     2943\n",
       "9.0     2831\n",
       "7.0     2688\n",
       "14.0    2661\n",
       "10.0    2606\n",
       "22.0    2306\n",
       "11.0    2256\n",
       "13.0    2066\n",
       "21.0    2053\n",
       "12.0    2033\n",
       "17.0    1956\n",
       "20.0    1931\n",
       "18.0    1790\n",
       "23.0    1685\n",
       "19.0    1648\n",
       "6.0     1591\n",
       "0.0     1146\n",
       "5.0      565\n",
       "1.0      451\n",
       "4.0      386\n",
       "2.0      321\n",
       "3.0      284\n",
       "Name: tweet_hour, dtype: int64"
      ]
     },
     "execution_count": 43,
     "metadata": {},
     "output_type": "execute_result"
    }
   ],
   "source": [
    "tweets_df[\"tweet_hour\"].value_counts()"
   ]
  },
  {
   "cell_type": "code",
   "execution_count": null,
   "metadata": {},
   "outputs": [],
   "source": []
  }
 ],
 "metadata": {
  "kernelspec": {
   "display_name": "Python 3",
   "language": "python",
   "name": "python3"
  },
  "language_info": {
   "codemirror_mode": {
    "name": "ipython",
    "version": 3
   },
   "file_extension": ".py",
   "mimetype": "text/x-python",
   "name": "python",
   "nbconvert_exporter": "python",
   "pygments_lexer": "ipython3",
   "version": "3.8.2"
  }
 },
 "nbformat": 4,
 "nbformat_minor": 4
}
